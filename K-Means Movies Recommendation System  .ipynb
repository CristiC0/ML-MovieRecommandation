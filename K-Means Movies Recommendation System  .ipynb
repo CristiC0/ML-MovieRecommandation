{
 "cells": [
  {
   "cell_type": "markdown",
   "metadata": {
    "colab_type": "text",
    "id": "jCfqaJIJrutF"
   },
   "source": [
    "## Importăm librăriile necesare"
   ]
  },
  {
   "cell_type": "code",
   "execution_count": 201,
   "metadata": {
    "colab": {},
    "colab_type": "code",
    "executionInfo": {
     "elapsed": 3745,
     "status": "ok",
     "timestamp": 1597420628587,
     "user": {
      "displayName": "Syed Muhammad Asad",
      "photoUrl": "https://lh3.googleusercontent.com/-fB2ssjtxx5A/AAAAAAAAAAI/AAAAAAAABn4/leYKxTW8Cqs/s64/photo.jpg",
      "userId": "01049030658086144010"
     },
     "user_tz": -300
    },
    "id": "eucyGUOMrutO"
   },
   "outputs": [],
   "source": [
    "import pandas as pd\n",
    "import numpy as np\n",
    "import matplotlib\n",
    "from matplotlib import pyplot as plt\n",
    "import sklearn\n",
    "from sklearn.feature_extraction.text import CountVectorizer\n",
    "from sklearn.cluster import KMeans\n",
    "import pickle\n",
    "import sys\n",
    "from sys import exc_info\n",
    "import ast "
   ]
  },
  {
   "cell_type": "markdown",
   "metadata": {},
   "source": [
    "## Importarea și pregătirea datelor"
   ]
  },
  {
   "cell_type": "markdown",
   "metadata": {},
   "source": [
    "Am descărcat setul de date MovieLens de pe Kaggle. Din acesta vom importa toate ratingurile utilizatorilor și vom filtra cele cu o apreciere de >4."
   ]
  },
  {
   "cell_type": "code",
   "execution_count": 202,
   "metadata": {
    "scrolled": false
   },
   "outputs": [
    {
     "name": "stdout",
     "output_type": "stream",
     "text": [
      "Forma ratingurilor:  (468, 3) \n",
      "\n",
      "Cea mai mică valoare a ratingului:  4.0\n",
      "   userId  movieId  rating\n",
      "0       1      147     4.5\n",
      "1       2       64     4.0\n",
      "2       2       79     4.0\n",
      "3       8        1     4.0\n",
      "4       8       47     4.0 \n",
      "\n"
     ]
    }
   ],
   "source": [
    "ratings = pd.read_csv('./Movies Data/ratings.csv', usecols = ['userId', 'movieId','rating'])\n",
    "print('Forma ratingurilor: ',ratings.shape, '\\n')\n",
    "print(\"Cea mai mică valoare a ratingului: \", ratings['rating'].min())\n",
    "print(ratings.head(), '\\n')"
   ]
  },
  {
   "cell_type": "code",
   "execution_count": 203,
   "metadata": {},
   "outputs": [
    {
     "name": "stdout",
     "output_type": "stream",
     "text": [
      "Forma ratingurilor filtrate:  (468, 3) \n",
      "\n",
      "Cea mai mică valoare a ratingului:  4.0\n",
      "   userId  movieId  rating\n",
      "0       1      147     4.5\n",
      "1       2       64     4.0\n",
      "2       2       79     4.0\n",
      "3       8        1     4.0\n",
      "4       8       47     4.0 \n",
      "\n"
     ]
    }
   ],
   "source": [
    "ratings = ratings[ratings['rating'] >= 4.0]\n",
    "print('Forma ratingurilor filtrate: ',ratings.shape, '\\n')\n",
    "print(\"Cea mai mică valoare a ratingului: \", ratings['rating'].min())\n",
    "print(ratings.head(), '\\n')"
   ]
  },
  {
   "cell_type": "markdown",
   "metadata": {},
   "source": [
    "Deja avem filtrate doar filme care sunt pe placul utilizatorilr. După cum observăm, setl de date sa redus considerabil.În cele ce urmează pentru etapa de testare vom selecta doar un număr mic de filme și utilizatori pe care vom antrena modelul."
   ]
  },
  {
   "cell_type": "code",
   "execution_count": 204,
   "metadata": {},
   "outputs": [
    {
     "name": "stdout",
     "output_type": "stream",
     "text": [
      "Forma ratingurilor pentru filmele selectate :  (468, 3) \n",
      "\n"
     ]
    }
   ],
   "source": [
    "movies_list = np.unique(ratings['movieId'])[:200]\n",
    "ratings = ratings.loc[ratings['movieId'].isin(movies_list)]\n",
    "print('Forma ratingurilor pentru filmele selectate : ',ratings.shape, '\\n')"
   ]
  },
  {
   "cell_type": "markdown",
   "metadata": {},
   "source": [
    "Limităm în continuare datele pentru doat câțiva utilizatori."
   ]
  },
  {
   "cell_type": "code",
   "execution_count": 205,
   "metadata": {},
   "outputs": [
    {
     "name": "stdout",
     "output_type": "stream",
     "text": [
      "Forma ratingurilor pentru utilizatorii selectați :  (447, 3) \n",
      "\n",
      "Nr de utilizatori:  100\n",
      "Nr de filme apreciate de utilizatorii selectați:  83\n"
     ]
    }
   ],
   "source": [
    "users_list = np.unique(ratings['userId'])[:100]\n",
    "ratings = ratings.loc[ratings['userId'].isin(users_list)]\n",
    "print('Forma ratingurilor pentru utilizatorii selectați : ',ratings.shape, '\\n')\n",
    "print('Nr de utilizatori: ', np.unique(ratings['userId']).shape[0])\n",
    "print('Nr de filme apreciate de utilizatorii selectați: ', np.unique(ratings['movieId']).shape[0])"
   ]
  },
  {
   "cell_type": "markdown",
   "metadata": {},
   "source": [
    "La moment presupunem că fiecare film cu o notă de 4+ este interesant utilizatorului. Deci, dacă un film e interesant pentru utilizatorul 1 atunci acel film va fi interesant pentru utilizatorul 2 cu aceleași preferințe."
   ]
  },
  {
   "cell_type": "code",
   "execution_count": 206,
   "metadata": {},
   "outputs": [],
   "source": [
    "users_fav_movies = ratings.loc[:, ['userId', 'movieId']]"
   ]
  },
  {
   "cell_type": "markdown",
   "metadata": {},
   "source": [
    "Fiind că am făcut careva modificări de aranjarea pe coloane, e important să resetăm indexii."
   ]
  },
  {
   "cell_type": "code",
   "execution_count": 207,
   "metadata": {},
   "outputs": [],
   "source": [
    "users_fav_movies = ratings.reset_index(drop = True)"
   ]
  },
  {
   "cell_type": "markdown",
   "metadata": {},
   "source": [
    "Într-un final am obținut acest dataframe ce conține filmele preferate de un număr de utilizatori specificat."
   ]
  },
  {
   "cell_type": "code",
   "execution_count": 208,
   "metadata": {},
   "outputs": [
    {
     "data": {
      "text/html": [
       "<div>\n",
       "<style scoped>\n",
       "    .dataframe tbody tr th:only-of-type {\n",
       "        vertical-align: middle;\n",
       "    }\n",
       "\n",
       "    .dataframe tbody tr th {\n",
       "        vertical-align: top;\n",
       "    }\n",
       "\n",
       "    .dataframe thead th {\n",
       "        text-align: right;\n",
       "    }\n",
       "</style>\n",
       "<table border=\"1\" class=\"dataframe\">\n",
       "  <thead>\n",
       "    <tr style=\"text-align: right;\">\n",
       "      <th></th>\n",
       "      <th>0</th>\n",
       "      <th>1</th>\n",
       "      <th>2</th>\n",
       "      <th>3</th>\n",
       "      <th>4</th>\n",
       "      <th>5</th>\n",
       "      <th>6</th>\n",
       "      <th>7</th>\n",
       "      <th>8</th>\n",
       "      <th>9</th>\n",
       "      <th>...</th>\n",
       "      <th>437</th>\n",
       "      <th>438</th>\n",
       "      <th>439</th>\n",
       "      <th>440</th>\n",
       "      <th>441</th>\n",
       "      <th>442</th>\n",
       "      <th>443</th>\n",
       "      <th>444</th>\n",
       "      <th>445</th>\n",
       "      <th>446</th>\n",
       "    </tr>\n",
       "  </thead>\n",
       "  <tbody>\n",
       "    <tr>\n",
       "      <th>userId</th>\n",
       "      <td>1.0</td>\n",
       "      <td>2.0</td>\n",
       "      <td>2.0</td>\n",
       "      <td>8.0</td>\n",
       "      <td>8.0</td>\n",
       "      <td>9.0</td>\n",
       "      <td>9.0</td>\n",
       "      <td>10.0</td>\n",
       "      <td>10.0</td>\n",
       "      <td>11.0</td>\n",
       "      <td>...</td>\n",
       "      <td>153.0</td>\n",
       "      <td>153.0</td>\n",
       "      <td>155.0</td>\n",
       "      <td>155.0</td>\n",
       "      <td>156.0</td>\n",
       "      <td>156.0</td>\n",
       "      <td>156.0</td>\n",
       "      <td>156.0</td>\n",
       "      <td>156.0</td>\n",
       "      <td>157.0</td>\n",
       "    </tr>\n",
       "    <tr>\n",
       "      <th>movieId</th>\n",
       "      <td>147.0</td>\n",
       "      <td>64.0</td>\n",
       "      <td>79.0</td>\n",
       "      <td>1.0</td>\n",
       "      <td>47.0</td>\n",
       "      <td>1.0</td>\n",
       "      <td>150.0</td>\n",
       "      <td>150.0</td>\n",
       "      <td>165.0</td>\n",
       "      <td>34.0</td>\n",
       "      <td>...</td>\n",
       "      <td>175.0</td>\n",
       "      <td>198.0</td>\n",
       "      <td>32.0</td>\n",
       "      <td>107.0</td>\n",
       "      <td>17.0</td>\n",
       "      <td>25.0</td>\n",
       "      <td>36.0</td>\n",
       "      <td>58.0</td>\n",
       "      <td>80.0</td>\n",
       "      <td>111.0</td>\n",
       "    </tr>\n",
       "    <tr>\n",
       "      <th>rating</th>\n",
       "      <td>4.5</td>\n",
       "      <td>4.0</td>\n",
       "      <td>4.0</td>\n",
       "      <td>4.0</td>\n",
       "      <td>4.0</td>\n",
       "      <td>4.5</td>\n",
       "      <td>4.0</td>\n",
       "      <td>4.0</td>\n",
       "      <td>4.0</td>\n",
       "      <td>4.0</td>\n",
       "      <td>...</td>\n",
       "      <td>4.5</td>\n",
       "      <td>4.0</td>\n",
       "      <td>4.5</td>\n",
       "      <td>5.0</td>\n",
       "      <td>4.0</td>\n",
       "      <td>5.0</td>\n",
       "      <td>5.0</td>\n",
       "      <td>5.0</td>\n",
       "      <td>4.0</td>\n",
       "      <td>4.0</td>\n",
       "    </tr>\n",
       "  </tbody>\n",
       "</table>\n",
       "<p>3 rows × 447 columns</p>\n",
       "</div>"
      ],
      "text/plain": [
       "           0     1     2    3     4    5      6      7      8     9    ...  \\\n",
       "userId     1.0   2.0   2.0  8.0   8.0  9.0    9.0   10.0   10.0  11.0  ...   \n",
       "movieId  147.0  64.0  79.0  1.0  47.0  1.0  150.0  150.0  165.0  34.0  ...   \n",
       "rating     4.5   4.0   4.0  4.0   4.0  4.5    4.0    4.0    4.0   4.0  ...   \n",
       "\n",
       "           437    438    439    440    441    442    443    444    445    446  \n",
       "userId   153.0  153.0  155.0  155.0  156.0  156.0  156.0  156.0  156.0  157.0  \n",
       "movieId  175.0  198.0   32.0  107.0   17.0   25.0   36.0   58.0   80.0  111.0  \n",
       "rating     4.5    4.0    4.5    5.0    4.0    5.0    5.0    5.0    4.0    4.0  \n",
       "\n",
       "[3 rows x 447 columns]"
      ]
     },
     "execution_count": 208,
     "metadata": {},
     "output_type": "execute_result"
    }
   ],
   "source": [
    "users_fav_movies.T"
   ]
  },
  {
   "cell_type": "markdown",
   "metadata": {},
   "source": [
    "Acum, putem salva acest dataframa într-un fișier local de tip csv.    "
   ]
  },
  {
   "cell_type": "code",
   "execution_count": 209,
   "metadata": {},
   "outputs": [],
   "source": [
    "users_fav_movies.to_csv('./Movies Data/filtered_ratings.csv')"
   ]
  },
  {
   "cell_type": "markdown",
   "metadata": {
    "colab_type": "text",
    "id": "Tzjd-yVMruyM"
   },
   "source": [
    "În continuare vom crea o matrice de repartizare ce o vom utiliza în algoritmul k-means. Pentru aceasta,vom defini o funcție ce va returna lista cu filme a fiecărui utilizator"
   ]
  },
  {
   "cell_type": "code",
   "execution_count": 210,
   "metadata": {
    "colab": {},
    "colab_type": "code",
    "id": "yff42q1ZruyV"
   },
   "outputs": [],
   "source": [
    "def moviesListForUsers(users, users_data):\n",
    "    \"\"\"\n",
    "    Returnează o listă de filme pentru fiecare utilizator dintr-o listă de utilizatori\n",
    "    Args:\n",
    "        users : Listă de id-uri a utilizatorilor.\n",
    "        users_data : Un dataframe cu filmele prefereate sau vizionate de utilizatori\n",
    "    Returns:\n",
    "        Lista de filme vizionate de utilizatori\n",
    "    \"\"\"\n",
    "\n",
    "    users_movies_list = []\n",
    "    for user in users:\n",
    "        users_movies_list.append(str(list(users_data[users_data['userId'] == user]['movieId'])).split('[')[1].split(']')[0])\n",
    "    return users_movies_list"
   ]
  },
  {
   "cell_type": "markdown",
   "metadata": {},
   "source": [
    "Metoda **moviesListForUsers** ne va returna o listă de stringuri, unde fiecare șir va fi lista de filme preferate a unui utilizator. Mai târziu vmmo extrage aceste proprietăți cu  **CountVectorizer** ."
   ]
  },
  {
   "cell_type": "markdown",
   "metadata": {},
   "source": [
    "Pentru a utiliza funcția de mai sus avem nevoie de o listă cu utilizatori și un dataframeul **users_data**. "
   ]
  },
  {
   "cell_type": "code",
   "execution_count": 211,
   "metadata": {},
   "outputs": [
    {
     "name": "stdout",
     "output_type": "stream",
     "text": [
      "(100,)\n"
     ]
    }
   ],
   "source": [
    "users = np.unique(users_fav_movies['userId'])\n",
    "print(users.shape)"
   ]
  },
  {
   "cell_type": "markdown",
   "metadata": {},
   "source": [
    "Creăm lista cu filme a tuturor utilizatorilor."
   ]
  },
  {
   "cell_type": "code",
   "execution_count": 212,
   "metadata": {
    "colab": {},
    "colab_type": "code",
    "id": "mCNqz-x1ruzY"
   },
   "outputs": [
    {
     "name": "stdout",
     "output_type": "stream",
     "text": [
      "Listele cu filme a  100  utilizatori:\n",
      "['147', '64, 79', '1, 47', '1, 150', '150, 165']\n"
     ]
    }
   ],
   "source": [
    "users_movies_list = moviesListForUsers(users, users_fav_movies)\n",
    "print('Listele cu filme a ', len(users_movies_list), ' utilizatori:')\n",
    "print(users_movies_list[:5])"
   ]
  },
  {
   "cell_type": "markdown",
   "metadata": {},
   "source": [
    "Primul șir conține Id-urile filmelor apreciat de primul utilizator,a doilea șir pentru al doilea utilizator și tot așa."
   ]
  },
  {
   "cell_type": "markdown",
   "metadata": {
    "colab_type": "text",
    "id": "xnJI94Q0ru1r"
   },
   "source": [
    "<p>În continuare vom crea o matrice de repartizare a filmelor vizionate de utiizatori. Dacă a fost vizionat vom nota cu 1, în caz contrar cu 0.</p>\n",
    "<table class='dataframe'>\n",
    "    <thead>\n",
    "        <td></td>\n",
    "        <td>Movie 1</td>\n",
    "        <td>Movie 2</td>\n",
    "        <td>Movie 3</td>\n",
    "        <td>...</td>\n",
    "        <td>Movie N</td>\n",
    "    </thead>\n",
    "    <tr>\n",
    "        <td>User 1</td>\n",
    "        <td>1</td>\n",
    "        <td>0</td>\n",
    "        <td>1</td>\n",
    "        <td>...</td>\n",
    "        <td>1</td>\n",
    "    </tr>\n",
    "    <tr>\n",
    "        <td>User 2</td>\n",
    "        <td>0</td>\n",
    "        <td>0</td>\n",
    "        <td>1</td>\n",
    "        <td>...</td>\n",
    "        <td>0</td>\n",
    "    </tr>\n",
    "    <tr>\n",
    "        <td>User 3</td>\n",
    "        <td>1</td>\n",
    "        <td>0</td>\n",
    "        <td>0</td>\n",
    "        <td>...</td>\n",
    "        <td>0</td>\n",
    "    </tr>\n",
    "</table>"
   ]
  },
  {
   "cell_type": "markdown",
   "metadata": {
    "colab_type": "text",
    "id": "QAYYm3Ywru1y"
   },
   "source": [
    "Mai jos definim funcția pentru crearea matricii de repartizare"
   ]
  },
  {
   "cell_type": "code",
   "execution_count": 213,
   "metadata": {
    "colab": {},
    "colab_type": "code",
    "id": "IHOh_IBAru11"
   },
   "outputs": [],
   "source": [
    "def sparseMatrix(list_of_str):\n",
    "    \"\"\"\n",
    "    Crează o 'matrice de repartizare' pentru filmele preferate de utilizatori\n",
    "    Args:\n",
    "        list_of_str : Listă de stringuri ce conțin filmele preferate a utilizatrilor separate prin virgulă\n",
    "    Returns:\n",
    "        Returnează o 'matrice de repartizare' și numele caracteristicilor pe care matricea de raritate este definită\n",
    "    \"\"\"\n",
    "    cv = CountVectorizer(token_pattern = r'[^\\,\\ ]+', lowercase = False)\n",
    "    sp= cv.fit_transform(list_of_str)\n",
    "    return sp.toarray(), cv.get_feature_names_out()"
   ]
  },
  {
   "cell_type": "code",
   "execution_count": 214,
   "metadata": {
    "colab": {},
    "colab_type": "code",
    "id": "Fw2LAvRXru3b"
   },
   "outputs": [],
   "source": [
    "sparseMatrix, feature_names = sparseMatrix(users_movies_list)"
   ]
  },
  {
   "cell_type": "markdown",
   "metadata": {},
   "source": [
    "Trecem datele din matricea creată într-un dataframe, care pe coloane va avea fiecare film, iar indexul fiecărui rând va fi ID-ul utilizatorilor."
   ]
  },
  {
   "cell_type": "code",
   "execution_count": 215,
   "metadata": {},
   "outputs": [
    {
     "data": {
      "text/html": [
       "<div>\n",
       "<style scoped>\n",
       "    .dataframe tbody tr th:only-of-type {\n",
       "        vertical-align: middle;\n",
       "    }\n",
       "\n",
       "    .dataframe tbody tr th {\n",
       "        vertical-align: top;\n",
       "    }\n",
       "\n",
       "    .dataframe thead th {\n",
       "        text-align: right;\n",
       "    }\n",
       "</style>\n",
       "<table border=\"1\" class=\"dataframe\">\n",
       "  <thead>\n",
       "    <tr style=\"text-align: right;\">\n",
       "      <th></th>\n",
       "      <th>1</th>\n",
       "      <th>10</th>\n",
       "      <th>101</th>\n",
       "      <th>104</th>\n",
       "      <th>105</th>\n",
       "      <th>107</th>\n",
       "      <th>11</th>\n",
       "      <th>110</th>\n",
       "      <th>111</th>\n",
       "      <th>112</th>\n",
       "      <th>...</th>\n",
       "      <th>79</th>\n",
       "      <th>80</th>\n",
       "      <th>81</th>\n",
       "      <th>82</th>\n",
       "      <th>86</th>\n",
       "      <th>88</th>\n",
       "      <th>89</th>\n",
       "      <th>94</th>\n",
       "      <th>95</th>\n",
       "      <th>97</th>\n",
       "    </tr>\n",
       "  </thead>\n",
       "  <tbody>\n",
       "    <tr>\n",
       "      <th>1</th>\n",
       "      <td>0</td>\n",
       "      <td>0</td>\n",
       "      <td>0</td>\n",
       "      <td>0</td>\n",
       "      <td>0</td>\n",
       "      <td>0</td>\n",
       "      <td>0</td>\n",
       "      <td>0</td>\n",
       "      <td>0</td>\n",
       "      <td>0</td>\n",
       "      <td>...</td>\n",
       "      <td>0</td>\n",
       "      <td>0</td>\n",
       "      <td>0</td>\n",
       "      <td>0</td>\n",
       "      <td>0</td>\n",
       "      <td>0</td>\n",
       "      <td>0</td>\n",
       "      <td>0</td>\n",
       "      <td>0</td>\n",
       "      <td>0</td>\n",
       "    </tr>\n",
       "    <tr>\n",
       "      <th>2</th>\n",
       "      <td>0</td>\n",
       "      <td>0</td>\n",
       "      <td>0</td>\n",
       "      <td>0</td>\n",
       "      <td>0</td>\n",
       "      <td>0</td>\n",
       "      <td>0</td>\n",
       "      <td>0</td>\n",
       "      <td>0</td>\n",
       "      <td>0</td>\n",
       "      <td>...</td>\n",
       "      <td>1</td>\n",
       "      <td>0</td>\n",
       "      <td>0</td>\n",
       "      <td>0</td>\n",
       "      <td>0</td>\n",
       "      <td>0</td>\n",
       "      <td>0</td>\n",
       "      <td>0</td>\n",
       "      <td>0</td>\n",
       "      <td>0</td>\n",
       "    </tr>\n",
       "    <tr>\n",
       "      <th>8</th>\n",
       "      <td>1</td>\n",
       "      <td>0</td>\n",
       "      <td>0</td>\n",
       "      <td>0</td>\n",
       "      <td>0</td>\n",
       "      <td>0</td>\n",
       "      <td>0</td>\n",
       "      <td>0</td>\n",
       "      <td>0</td>\n",
       "      <td>0</td>\n",
       "      <td>...</td>\n",
       "      <td>0</td>\n",
       "      <td>0</td>\n",
       "      <td>0</td>\n",
       "      <td>0</td>\n",
       "      <td>0</td>\n",
       "      <td>0</td>\n",
       "      <td>0</td>\n",
       "      <td>0</td>\n",
       "      <td>0</td>\n",
       "      <td>0</td>\n",
       "    </tr>\n",
       "    <tr>\n",
       "      <th>9</th>\n",
       "      <td>1</td>\n",
       "      <td>0</td>\n",
       "      <td>0</td>\n",
       "      <td>0</td>\n",
       "      <td>0</td>\n",
       "      <td>0</td>\n",
       "      <td>0</td>\n",
       "      <td>0</td>\n",
       "      <td>0</td>\n",
       "      <td>0</td>\n",
       "      <td>...</td>\n",
       "      <td>0</td>\n",
       "      <td>0</td>\n",
       "      <td>0</td>\n",
       "      <td>0</td>\n",
       "      <td>0</td>\n",
       "      <td>0</td>\n",
       "      <td>0</td>\n",
       "      <td>0</td>\n",
       "      <td>0</td>\n",
       "      <td>0</td>\n",
       "    </tr>\n",
       "    <tr>\n",
       "      <th>10</th>\n",
       "      <td>0</td>\n",
       "      <td>0</td>\n",
       "      <td>0</td>\n",
       "      <td>0</td>\n",
       "      <td>0</td>\n",
       "      <td>0</td>\n",
       "      <td>0</td>\n",
       "      <td>0</td>\n",
       "      <td>0</td>\n",
       "      <td>0</td>\n",
       "      <td>...</td>\n",
       "      <td>0</td>\n",
       "      <td>0</td>\n",
       "      <td>0</td>\n",
       "      <td>0</td>\n",
       "      <td>0</td>\n",
       "      <td>0</td>\n",
       "      <td>0</td>\n",
       "      <td>0</td>\n",
       "      <td>0</td>\n",
       "      <td>0</td>\n",
       "    </tr>\n",
       "    <tr>\n",
       "      <th>...</th>\n",
       "      <td>...</td>\n",
       "      <td>...</td>\n",
       "      <td>...</td>\n",
       "      <td>...</td>\n",
       "      <td>...</td>\n",
       "      <td>...</td>\n",
       "      <td>...</td>\n",
       "      <td>...</td>\n",
       "      <td>...</td>\n",
       "      <td>...</td>\n",
       "      <td>...</td>\n",
       "      <td>...</td>\n",
       "      <td>...</td>\n",
       "      <td>...</td>\n",
       "      <td>...</td>\n",
       "      <td>...</td>\n",
       "      <td>...</td>\n",
       "      <td>...</td>\n",
       "      <td>...</td>\n",
       "      <td>...</td>\n",
       "      <td>...</td>\n",
       "    </tr>\n",
       "    <tr>\n",
       "      <th>151</th>\n",
       "      <td>0</td>\n",
       "      <td>0</td>\n",
       "      <td>0</td>\n",
       "      <td>0</td>\n",
       "      <td>0</td>\n",
       "      <td>0</td>\n",
       "      <td>0</td>\n",
       "      <td>1</td>\n",
       "      <td>0</td>\n",
       "      <td>0</td>\n",
       "      <td>...</td>\n",
       "      <td>0</td>\n",
       "      <td>0</td>\n",
       "      <td>0</td>\n",
       "      <td>0</td>\n",
       "      <td>0</td>\n",
       "      <td>0</td>\n",
       "      <td>0</td>\n",
       "      <td>0</td>\n",
       "      <td>0</td>\n",
       "      <td>0</td>\n",
       "    </tr>\n",
       "    <tr>\n",
       "      <th>153</th>\n",
       "      <td>1</td>\n",
       "      <td>0</td>\n",
       "      <td>0</td>\n",
       "      <td>0</td>\n",
       "      <td>0</td>\n",
       "      <td>0</td>\n",
       "      <td>0</td>\n",
       "      <td>1</td>\n",
       "      <td>0</td>\n",
       "      <td>0</td>\n",
       "      <td>...</td>\n",
       "      <td>0</td>\n",
       "      <td>0</td>\n",
       "      <td>0</td>\n",
       "      <td>0</td>\n",
       "      <td>0</td>\n",
       "      <td>0</td>\n",
       "      <td>0</td>\n",
       "      <td>0</td>\n",
       "      <td>0</td>\n",
       "      <td>0</td>\n",
       "    </tr>\n",
       "    <tr>\n",
       "      <th>155</th>\n",
       "      <td>0</td>\n",
       "      <td>0</td>\n",
       "      <td>0</td>\n",
       "      <td>0</td>\n",
       "      <td>0</td>\n",
       "      <td>1</td>\n",
       "      <td>0</td>\n",
       "      <td>0</td>\n",
       "      <td>0</td>\n",
       "      <td>0</td>\n",
       "      <td>...</td>\n",
       "      <td>0</td>\n",
       "      <td>0</td>\n",
       "      <td>0</td>\n",
       "      <td>0</td>\n",
       "      <td>0</td>\n",
       "      <td>0</td>\n",
       "      <td>0</td>\n",
       "      <td>0</td>\n",
       "      <td>0</td>\n",
       "      <td>0</td>\n",
       "    </tr>\n",
       "    <tr>\n",
       "      <th>156</th>\n",
       "      <td>0</td>\n",
       "      <td>0</td>\n",
       "      <td>0</td>\n",
       "      <td>0</td>\n",
       "      <td>0</td>\n",
       "      <td>0</td>\n",
       "      <td>0</td>\n",
       "      <td>0</td>\n",
       "      <td>0</td>\n",
       "      <td>0</td>\n",
       "      <td>...</td>\n",
       "      <td>0</td>\n",
       "      <td>1</td>\n",
       "      <td>0</td>\n",
       "      <td>0</td>\n",
       "      <td>0</td>\n",
       "      <td>0</td>\n",
       "      <td>0</td>\n",
       "      <td>0</td>\n",
       "      <td>0</td>\n",
       "      <td>0</td>\n",
       "    </tr>\n",
       "    <tr>\n",
       "      <th>157</th>\n",
       "      <td>0</td>\n",
       "      <td>0</td>\n",
       "      <td>0</td>\n",
       "      <td>0</td>\n",
       "      <td>0</td>\n",
       "      <td>0</td>\n",
       "      <td>0</td>\n",
       "      <td>0</td>\n",
       "      <td>1</td>\n",
       "      <td>0</td>\n",
       "      <td>...</td>\n",
       "      <td>0</td>\n",
       "      <td>0</td>\n",
       "      <td>0</td>\n",
       "      <td>0</td>\n",
       "      <td>0</td>\n",
       "      <td>0</td>\n",
       "      <td>0</td>\n",
       "      <td>0</td>\n",
       "      <td>0</td>\n",
       "      <td>0</td>\n",
       "    </tr>\n",
       "  </tbody>\n",
       "</table>\n",
       "<p>100 rows × 83 columns</p>\n",
       "</div>"
      ],
      "text/plain": [
       "     1  10  101  104  105  107  11  110  111  112  ...  79  80  81  82  86  \\\n",
       "1    0   0    0    0    0    0   0    0    0    0  ...   0   0   0   0   0   \n",
       "2    0   0    0    0    0    0   0    0    0    0  ...   1   0   0   0   0   \n",
       "8    1   0    0    0    0    0   0    0    0    0  ...   0   0   0   0   0   \n",
       "9    1   0    0    0    0    0   0    0    0    0  ...   0   0   0   0   0   \n",
       "10   0   0    0    0    0    0   0    0    0    0  ...   0   0   0   0   0   \n",
       "..  ..  ..  ...  ...  ...  ...  ..  ...  ...  ...  ...  ..  ..  ..  ..  ..   \n",
       "151  0   0    0    0    0    0   0    1    0    0  ...   0   0   0   0   0   \n",
       "153  1   0    0    0    0    0   0    1    0    0  ...   0   0   0   0   0   \n",
       "155  0   0    0    0    0    1   0    0    0    0  ...   0   0   0   0   0   \n",
       "156  0   0    0    0    0    0   0    0    0    0  ...   0   1   0   0   0   \n",
       "157  0   0    0    0    0    0   0    0    1    0  ...   0   0   0   0   0   \n",
       "\n",
       "     88  89  94  95  97  \n",
       "1     0   0   0   0   0  \n",
       "2     0   0   0   0   0  \n",
       "8     0   0   0   0   0  \n",
       "9     0   0   0   0   0  \n",
       "10    0   0   0   0   0  \n",
       "..   ..  ..  ..  ..  ..  \n",
       "151   0   0   0   0   0  \n",
       "153   0   0   0   0   0  \n",
       "155   0   0   0   0   0  \n",
       "156   0   0   0   0   0  \n",
       "157   0   0   0   0   0  \n",
       "\n",
       "[100 rows x 83 columns]"
      ]
     },
     "execution_count": 215,
     "metadata": {},
     "output_type": "execute_result"
    }
   ],
   "source": [
    "df_sparseMatrix = pd.DataFrame(sparseMatrix, index = users, columns = feature_names)\n",
    "df_sparseMatrix"
   ]
  },
  {
   "cell_type": "markdown",
   "metadata": {},
   "source": [
    "Verificăm matricea creată să ne asigurăm că toate datele introduse sunt corecte. Ne uităm la listele filmelor câtorva utilizatori."
   ]
  },
  {
   "cell_type": "code",
   "execution_count": 216,
   "metadata": {
    "colab": {},
    "colab_type": "code",
    "id": "jZHWzMUZru4B",
    "outputId": "cf5c0862-d516-48e2-8ed4-9e1bb3de7f80"
   },
   "outputs": [
    {
     "data": {
      "text/html": [
       "<div>\n",
       "<style scoped>\n",
       "    .dataframe tbody tr th:only-of-type {\n",
       "        vertical-align: middle;\n",
       "    }\n",
       "\n",
       "    .dataframe tbody tr th {\n",
       "        vertical-align: top;\n",
       "    }\n",
       "\n",
       "    .dataframe thead th {\n",
       "        text-align: right;\n",
       "    }\n",
       "</style>\n",
       "<table border=\"1\" class=\"dataframe\">\n",
       "  <thead>\n",
       "    <tr style=\"text-align: right;\">\n",
       "      <th></th>\n",
       "      <th>0</th>\n",
       "      <th>1</th>\n",
       "      <th>2</th>\n",
       "      <th>3</th>\n",
       "      <th>4</th>\n",
       "      <th>5</th>\n",
       "      <th>6</th>\n",
       "      <th>7</th>\n",
       "      <th>8</th>\n",
       "    </tr>\n",
       "  </thead>\n",
       "  <tbody>\n",
       "    <tr>\n",
       "      <th>userId</th>\n",
       "      <td>1.0</td>\n",
       "      <td>2.0</td>\n",
       "      <td>2.0</td>\n",
       "      <td>8.0</td>\n",
       "      <td>8.0</td>\n",
       "      <td>9.0</td>\n",
       "      <td>9.0</td>\n",
       "      <td>10.0</td>\n",
       "      <td>10.0</td>\n",
       "    </tr>\n",
       "    <tr>\n",
       "      <th>movieId</th>\n",
       "      <td>147.0</td>\n",
       "      <td>64.0</td>\n",
       "      <td>79.0</td>\n",
       "      <td>1.0</td>\n",
       "      <td>47.0</td>\n",
       "      <td>1.0</td>\n",
       "      <td>150.0</td>\n",
       "      <td>150.0</td>\n",
       "      <td>165.0</td>\n",
       "    </tr>\n",
       "    <tr>\n",
       "      <th>rating</th>\n",
       "      <td>4.5</td>\n",
       "      <td>4.0</td>\n",
       "      <td>4.0</td>\n",
       "      <td>4.0</td>\n",
       "      <td>4.0</td>\n",
       "      <td>4.5</td>\n",
       "      <td>4.0</td>\n",
       "      <td>4.0</td>\n",
       "      <td>4.0</td>\n",
       "    </tr>\n",
       "  </tbody>\n",
       "</table>\n",
       "</div>"
      ],
      "text/plain": [
       "             0     1     2    3     4    5      6      7      8\n",
       "userId     1.0   2.0   2.0  8.0   8.0  9.0    9.0   10.0   10.0\n",
       "movieId  147.0  64.0  79.0  1.0  47.0  1.0  150.0  150.0  165.0\n",
       "rating     4.5   4.0   4.0  4.0   4.0  4.5    4.0    4.0    4.0"
      ]
     },
     "execution_count": 216,
     "metadata": {},
     "output_type": "execute_result"
    }
   ],
   "source": [
    "some_users = users_fav_movies[users_fav_movies['userId'].isin(users[:5])].sort_values('userId')\n",
    "some_users.T"
   ]
  },
  {
   "cell_type": "markdown",
   "metadata": {
    "colab_type": "text",
    "id": "7Jpw__I_ru4b"
   },
   "source": [
    "Verificăm repartiția în matrice a utilizatorilr cercetați."
   ]
  },
  {
   "cell_type": "code",
   "execution_count": 217,
   "metadata": {
    "colab": {},
    "colab_type": "code",
    "id": "IhjtEWpkru4e",
    "outputId": "0d0a12f1-f474-47dc-aed3-7333dee9ae4d"
   },
   "outputs": [
    {
     "data": {
      "text/html": [
       "<div>\n",
       "<style scoped>\n",
       "    .dataframe tbody tr th:only-of-type {\n",
       "        vertical-align: middle;\n",
       "    }\n",
       "\n",
       "    .dataframe tbody tr th {\n",
       "        vertical-align: top;\n",
       "    }\n",
       "\n",
       "    .dataframe thead th {\n",
       "        text-align: right;\n",
       "    }\n",
       "</style>\n",
       "<table border=\"1\" class=\"dataframe\">\n",
       "  <thead>\n",
       "    <tr style=\"text-align: right;\">\n",
       "      <th></th>\n",
       "      <th>1</th>\n",
       "      <th>47</th>\n",
       "      <th>64</th>\n",
       "      <th>79</th>\n",
       "      <th>147</th>\n",
       "      <th>150</th>\n",
       "      <th>165</th>\n",
       "    </tr>\n",
       "  </thead>\n",
       "  <tbody>\n",
       "    <tr>\n",
       "      <th>1</th>\n",
       "      <td>0</td>\n",
       "      <td>0</td>\n",
       "      <td>0</td>\n",
       "      <td>0</td>\n",
       "      <td>1</td>\n",
       "      <td>0</td>\n",
       "      <td>0</td>\n",
       "    </tr>\n",
       "    <tr>\n",
       "      <th>2</th>\n",
       "      <td>0</td>\n",
       "      <td>0</td>\n",
       "      <td>1</td>\n",
       "      <td>1</td>\n",
       "      <td>0</td>\n",
       "      <td>0</td>\n",
       "      <td>0</td>\n",
       "    </tr>\n",
       "    <tr>\n",
       "      <th>8</th>\n",
       "      <td>1</td>\n",
       "      <td>1</td>\n",
       "      <td>0</td>\n",
       "      <td>0</td>\n",
       "      <td>0</td>\n",
       "      <td>0</td>\n",
       "      <td>0</td>\n",
       "    </tr>\n",
       "    <tr>\n",
       "      <th>9</th>\n",
       "      <td>1</td>\n",
       "      <td>0</td>\n",
       "      <td>0</td>\n",
       "      <td>0</td>\n",
       "      <td>0</td>\n",
       "      <td>1</td>\n",
       "      <td>0</td>\n",
       "    </tr>\n",
       "    <tr>\n",
       "      <th>10</th>\n",
       "      <td>0</td>\n",
       "      <td>0</td>\n",
       "      <td>0</td>\n",
       "      <td>0</td>\n",
       "      <td>0</td>\n",
       "      <td>1</td>\n",
       "      <td>1</td>\n",
       "    </tr>\n",
       "  </tbody>\n",
       "</table>\n",
       "</div>"
      ],
      "text/plain": [
       "    1  47  64  79  147  150  165\n",
       "1   0   0   0   0    1    0    0\n",
       "2   0   0   1   1    0    0    0\n",
       "8   1   1   0   0    0    0    0\n",
       "9   1   0   0   0    0    1    0\n",
       "10  0   0   0   0    0    1    1"
      ]
     },
     "execution_count": 217,
     "metadata": {},
     "output_type": "execute_result"
    }
   ],
   "source": [
    "df_sparseMatrix.loc[np.unique(some_users['userId']), list(map(str, np.unique(some_users['movieId'])))]"
   ]
  },
  {
   "cell_type": "markdown",
   "metadata": {},
   "source": [
    "După cum putem observa valorile din matrice și lista de filme coincid. În continuare putem să trecem la implementarea algoritmului de clusterizare."
   ]
  },
  {
   "cell_type": "markdown",
   "metadata": {
    "colab_type": "text",
    "id": "W_zRqndnru44"
   },
   "source": [
    "## Clusterizare"
   ]
  },
  {
   "cell_type": "markdown",
   "metadata": {
    "colab_type": "text",
    "id": "zKoqXol8ru49"
   },
   "source": [
    "Primul pas pentru a clusteriza datele,, este necesar de găsit numărul de clustere optimal. Pentru a realiza acest lucru creăm o clasa ce implementează metoda elbow prin rularea algoritmlui k-means și care afișează grafic rezultatele."
   ]
  },
  {
   "cell_type": "code",
   "execution_count": 218,
   "metadata": {
    "colab": {},
    "colab_type": "code",
    "id": "RD3TE5arru5N"
   },
   "outputs": [],
   "source": [
    "class elbowMethod():\n",
    "    def __init__(self, sparseMatrix):\n",
    "        self.sparseMatrix = sparseMatrix\n",
    "        self.wcss = list()\n",
    "        self.differences = list()\n",
    "    def run(self, init, upto, max_iterations = 300):\n",
    "        for i in range(init, upto + 1):\n",
    "            kmeans = KMeans(n_clusters=i, init = 'k-means++', max_iter = max_iterations, n_init = 10, random_state = 0)\n",
    "            kmeans.fit(sparseMatrix)\n",
    "            self.wcss.append(kmeans.inertia_)\n",
    "        self.differences = list()\n",
    "        for i in range(len(self.wcss)-1):\n",
    "            self.differences.append(self.wcss[i] - self.wcss[i+1])\n",
    "    def showPlot(self, boundary = 500, upto_cluster = None):\n",
    "        if upto_cluster is None:\n",
    "            WCSS = self.wcss\n",
    "            DIFF = self.differences\n",
    "        else:\n",
    "            WCSS = self.wcss[:upto_cluster]\n",
    "            DIFF = self.differences[:upto_cluster - 1]\n",
    "        plt.figure(figsize=(15, 6))\n",
    "        plt.subplot(121).set_title(\"Metoda 'Elbow' \")\n",
    "        plt.plot(range(1, len(WCSS) + 1), WCSS)\n",
    "        plt.grid(visible=  True)\n",
    "        plt.subplot(122).set_title('Diferența între câte 2 clustere consecutive')\n",
    "        len_differences = len(DIFF)\n",
    "        X_differences = range(1, len_differences + 1)\n",
    "        plt.plot(X_differences, DIFF)\n",
    "        plt.plot(X_differences, np.ones(len_differences)*boundary, 'r')\n",
    "        plt.plot(X_differences, np.ones(len_differences)*(-boundary), 'r')\n",
    "        plt.grid()\n",
    "        plt.show()\n",
    "        "
   ]
  },
  {
   "cell_type": "markdown",
   "metadata": {},
   "source": [
    "Fiindcă nu cunoaștem în ce interval vom obține numărul de clustere optimal cu metoda elbow, avem o proprietate listă în care salvăm valorile WCSS calculate. Dacă prima dată rulăm metoda pe intervalul 1-10 și mai târziu când vizualizăm graficul nu putem depista punctul optim, vom rula mai departe pe 11-20 și tot așa până ajungem la un rezultat satisfăcător, \n",
    "\n",
    "Pe lângă metoda de bază, vom mai utiliza o strategie când nu putem depista un \"cot\". Aceasta constă din diferența dintre cele 2 valori WCSS. Ptem seta o limită pentru a observa clar diferențele de valoare. Deci, atunci când schimbările valorii WCSS rămân în limitele specificate, am depistat punctul după care modificările dintre nr de clustere sunt mici și nesemneficative."
   ]
  },
  {
   "cell_type": "markdown",
   "metadata": {
    "colab_type": "text",
    "id": "Pvo2dx6gru5j"
   },
   "source": [
    "Analizăm algoritmul pentru un intrval 1-10 de clustere. Prima dată k-means va rula pentru *k=1* clustere, apoi pentru *k=2* clustere și tot așa până la *k=10*. Setăm diferența acceptabilă ca 10. "
   ]
  },
  {
   "cell_type": "code",
   "execution_count": 219,
   "metadata": {},
   "outputs": [
    {
     "data": {
      "image/png": "[encoded data removed]",
      "text/plain": [
       "<Figure size 1500x600 with 2 Axes>"
      ]
     },
     "metadata": {},
     "output_type": "display_data"
    }
   ],
   "source": [
    "elbow_method = elbowMethod(sparseMatrix)\n",
    "elbow_method.run(1, 10)\n",
    "elbow_method.showPlot(boundary = 10)"
   ]
  },
  {
   "cell_type": "markdown",
   "metadata": {},
   "source": [
    "Fiindcă nu se obervă în schemă valoarea optimă și nu avem o consecutivitate de scimbări în cadrul limitei stabilite, verificăm mai departe pe intervalul 11-20."
   ]
  },
  {
   "cell_type": "code",
   "execution_count": 220,
   "metadata": {},
   "outputs": [
    {
     "data": {
      "image/png": "[encoded data removed]",
      "text/plain": [
       "<Figure size 1500x600 with 2 Axes>"
      ]
     },
     "metadata": {},
     "output_type": "display_data"
    }
   ],
   "source": [
    "elbow_method.run(11, 40)\n",
    "elbow_method.showPlot(boundary = 10)"
   ]
  },
  {
   "cell_type": "markdown",
   "metadata": {},
   "source": [
    "Nu se observă punctul căutat în elbow, însă avem diferențe în limitele stabilite. Dacă ne uită în al doilea graf, vedem că după clusterul 26, toate diferențele sunt în limita stabilită. Deci vom rula **k-means** pentru 27 clustere."
   ]
  },
  {
   "cell_type": "markdown",
   "metadata": {},
   "source": [
    "## Implementarea modelului cu date "
   ]
  },
  {
   "cell_type": "markdown",
   "metadata": {},
   "source": [
    "Rulăm modelul k-means pentru a face predicțiile."
   ]
  },
  {
   "cell_type": "code",
   "execution_count": 221,
   "metadata": {},
   "outputs": [],
   "source": [
    "nr_of_clusters=15\n",
    "kmeans = KMeans(n_clusters=nr_of_clusters, init = 'k-means++', max_iter = 300, n_init = 10, random_state = 0)\n",
    "clusters = kmeans.fit_predict(sparseMatrix)"
   ]
  },
  {
   "cell_type": "markdown",
   "metadata": {},
   "source": [
    "Introducem rezultatele într-un dataframe pentru a vizualiza numărul fiecărui cluster."
   ]
  },
  {
   "cell_type": "code",
   "execution_count": 222,
   "metadata": {
    "scrolled": false
   },
   "outputs": [
    {
     "data": {
      "text/html": [
       "<div>\n",
       "<style scoped>\n",
       "    .dataframe tbody tr th:only-of-type {\n",
       "        vertical-align: middle;\n",
       "    }\n",
       "\n",
       "    .dataframe tbody tr th {\n",
       "        vertical-align: top;\n",
       "    }\n",
       "\n",
       "    .dataframe thead th {\n",
       "        text-align: right;\n",
       "    }\n",
       "</style>\n",
       "<table border=\"1\" class=\"dataframe\">\n",
       "  <thead>\n",
       "    <tr style=\"text-align: right;\">\n",
       "      <th></th>\n",
       "      <th>0</th>\n",
       "      <th>1</th>\n",
       "      <th>2</th>\n",
       "      <th>3</th>\n",
       "      <th>4</th>\n",
       "      <th>5</th>\n",
       "      <th>6</th>\n",
       "      <th>7</th>\n",
       "      <th>8</th>\n",
       "      <th>9</th>\n",
       "      <th>...</th>\n",
       "      <th>90</th>\n",
       "      <th>91</th>\n",
       "      <th>92</th>\n",
       "      <th>93</th>\n",
       "      <th>94</th>\n",
       "      <th>95</th>\n",
       "      <th>96</th>\n",
       "      <th>97</th>\n",
       "      <th>98</th>\n",
       "      <th>99</th>\n",
       "    </tr>\n",
       "  </thead>\n",
       "  <tbody>\n",
       "    <tr>\n",
       "      <th>userId</th>\n",
       "      <td>1</td>\n",
       "      <td>2</td>\n",
       "      <td>8</td>\n",
       "      <td>9</td>\n",
       "      <td>10</td>\n",
       "      <td>11</td>\n",
       "      <td>12</td>\n",
       "      <td>15</td>\n",
       "      <td>16</td>\n",
       "      <td>18</td>\n",
       "      <td>...</td>\n",
       "      <td>134</td>\n",
       "      <td>137</td>\n",
       "      <td>142</td>\n",
       "      <td>146</td>\n",
       "      <td>150</td>\n",
       "      <td>151</td>\n",
       "      <td>153</td>\n",
       "      <td>155</td>\n",
       "      <td>156</td>\n",
       "      <td>157</td>\n",
       "    </tr>\n",
       "    <tr>\n",
       "      <th>Cluster</th>\n",
       "      <td>13</td>\n",
       "      <td>14</td>\n",
       "      <td>1</td>\n",
       "      <td>9</td>\n",
       "      <td>4</td>\n",
       "      <td>14</td>\n",
       "      <td>11</td>\n",
       "      <td>14</td>\n",
       "      <td>5</td>\n",
       "      <td>13</td>\n",
       "      <td>...</td>\n",
       "      <td>14</td>\n",
       "      <td>14</td>\n",
       "      <td>2</td>\n",
       "      <td>14</td>\n",
       "      <td>7</td>\n",
       "      <td>14</td>\n",
       "      <td>9</td>\n",
       "      <td>5</td>\n",
       "      <td>14</td>\n",
       "      <td>14</td>\n",
       "    </tr>\n",
       "  </tbody>\n",
       "</table>\n",
       "<p>2 rows × 100 columns</p>\n",
       "</div>"
      ],
      "text/plain": [
       "         0   1   2   3   4   5   6   7   8   9   ...   90   91   92   93   94  \\\n",
       "userId    1   2   8   9  10  11  12  15  16  18  ...  134  137  142  146  150   \n",
       "Cluster  13  14   1   9   4  14  11  14   5  13  ...   14   14    2   14    7   \n",
       "\n",
       "          95   96   97   98   99  \n",
       "userId   151  153  155  156  157  \n",
       "Cluster   14    9    5   14   14  \n",
       "\n",
       "[2 rows x 100 columns]"
      ]
     },
     "execution_count": 222,
     "metadata": {},
     "output_type": "execute_result"
    }
   ],
   "source": [
    "users_cluster = pd.DataFrame(np.concatenate((users.reshape(-1,1), clusters.reshape(-1,1)), axis = 1), columns = ['userId', 'Cluster'])\n",
    "users_cluster.T"
   ]
  },
  {
   "cell_type": "markdown",
   "metadata": {},
   "source": [
    "În continuare definim o funcție care va crea listă de dataframe-uri, unde fiecare va avea id-l filmului și numărul de aprecieri a acestuia (**count** - numărul de utilizatori care are filmul ca favorit). Deci filmul cu valarea **count** cea mai mare va fi mai interesant pentru cei ce nu lau vizonat încă.\n",
    "<br>\n",
    "Vom avea lista de tipul: [dataframe_Cluster_1, dataframe_Cluster_2, ..., dataframe_Cluster_3]\n",
    "<br>\n",
    "Fiecare dataframe va fi de tipul:\n",
    "<table class='dataframe'>\n",
    "        <thead>\n",
    "                <td>Index</td>\n",
    "                <td>ID Film</td>\n",
    "                <td>Count</td>\n",
    "        </thead>\n",
    "        <tr>\n",
    "                <td>0</td>\n",
    "                <td>121</td>\n",
    "                <td>100</td>\n",
    "        </tr>\n",
    "        <tr>\n",
    "                <td>1</td>\n",
    "                <td>8786</td>\n",
    "                <td>95</td>\n",
    "        </tr>\n",
    "        <tr>\n",
    "                <td>&#8942;</td>\n",
    "                <td>&#8942;</td>\n",
    "                <td>&#8942;</td>\n",
    "        </tr>\n",
    "        <tr>\n",
    "                <td>N</td>\n",
    "                <td>Id ultimul film</td>\n",
    "                <td>Nr de aprecieri</td>\n",
    "        </tr>\n",
    "</table>"
   ]
  },
  {
   "cell_type": "markdown",
   "metadata": {},
   "source": [
    "Pentru a crea o listă cu filmele utilizatorilor dintr-un anumit cluster,cream o funcție ce face acest lucru."
   ]
  },
  {
   "cell_type": "code",
   "execution_count": 223,
   "metadata": {},
   "outputs": [],
   "source": [
    "def clustersMovies(users_cluster, users_data):\n",
    "    clusters = list(users_cluster['Cluster'])\n",
    "    each_cluster_movies = list()\n",
    "    for i in range(len(np.unique(clusters))):\n",
    "        users_list = list(users_cluster[users_cluster['Cluster'] == i]['userId'])\n",
    "        users_movies_list = list()\n",
    "        for user in users_list:    \n",
    "            users_movies_list.extend(list(users_data[users_data['userId'] == user]['movieId']))\n",
    "        users_movies_counts = list()\n",
    "        users_movies_counts.extend([[movie, users_movies_list.count(movie)] for movie in np.unique(users_movies_list)])\n",
    "        each_cluster_movies.append(pd.DataFrame(users_movies_counts, columns=['movieId', 'Count']).sort_values(by = ['Count'], ascending = False).reset_index(drop=True))\n",
    "    return each_cluster_movies"
   ]
  },
  {
   "cell_type": "code",
   "execution_count": 224,
   "metadata": {},
   "outputs": [],
   "source": [
    "cluster_movies = clustersMovies(users_cluster, users_fav_movies)"
   ]
  },
  {
   "cell_type": "markdown",
   "metadata": {},
   "source": [
    "Un exemplu de dataframe a unui cluster din lista **cluster_movies**. "
   ]
  },
  {
   "cell_type": "code",
   "execution_count": 225,
   "metadata": {},
   "outputs": [
    {
     "data": {
      "text/html": [
       "<div>\n",
       "<style scoped>\n",
       "    .dataframe tbody tr th:only-of-type {\n",
       "        vertical-align: middle;\n",
       "    }\n",
       "\n",
       "    .dataframe tbody tr th {\n",
       "        vertical-align: top;\n",
       "    }\n",
       "\n",
       "    .dataframe thead th {\n",
       "        text-align: right;\n",
       "    }\n",
       "</style>\n",
       "<table border=\"1\" class=\"dataframe\">\n",
       "  <thead>\n",
       "    <tr style=\"text-align: right;\">\n",
       "      <th></th>\n",
       "      <th>0</th>\n",
       "      <th>1</th>\n",
       "      <th>2</th>\n",
       "      <th>3</th>\n",
       "      <th>4</th>\n",
       "      <th>5</th>\n",
       "      <th>6</th>\n",
       "      <th>7</th>\n",
       "      <th>8</th>\n",
       "      <th>9</th>\n",
       "      <th>10</th>\n",
       "      <th>11</th>\n",
       "      <th>12</th>\n",
       "      <th>13</th>\n",
       "      <th>14</th>\n",
       "      <th>15</th>\n",
       "      <th>16</th>\n",
       "      <th>17</th>\n",
       "    </tr>\n",
       "  </thead>\n",
       "  <tbody>\n",
       "    <tr>\n",
       "      <th>movieId</th>\n",
       "      <td>1</td>\n",
       "      <td>50</td>\n",
       "      <td>47</td>\n",
       "      <td>5</td>\n",
       "      <td>111</td>\n",
       "      <td>95</td>\n",
       "      <td>6</td>\n",
       "      <td>36</td>\n",
       "      <td>21</td>\n",
       "      <td>62</td>\n",
       "      <td>2</td>\n",
       "      <td>110</td>\n",
       "      <td>151</td>\n",
       "      <td>158</td>\n",
       "      <td>161</td>\n",
       "      <td>165</td>\n",
       "      <td>186</td>\n",
       "      <td>188</td>\n",
       "    </tr>\n",
       "    <tr>\n",
       "      <th>Count</th>\n",
       "      <td>12</td>\n",
       "      <td>6</td>\n",
       "      <td>4</td>\n",
       "      <td>3</td>\n",
       "      <td>2</td>\n",
       "      <td>2</td>\n",
       "      <td>2</td>\n",
       "      <td>1</td>\n",
       "      <td>1</td>\n",
       "      <td>1</td>\n",
       "      <td>1</td>\n",
       "      <td>1</td>\n",
       "      <td>1</td>\n",
       "      <td>1</td>\n",
       "      <td>1</td>\n",
       "      <td>1</td>\n",
       "      <td>1</td>\n",
       "      <td>1</td>\n",
       "    </tr>\n",
       "  </tbody>\n",
       "</table>\n",
       "</div>"
      ],
      "text/plain": [
       "         0   1   2   3    4   5   6   7   8   9   10   11   12   13   14   15  \\\n",
       "movieId   1  50  47   5  111  95   6  36  21  62   2  110  151  158  161  165   \n",
       "Count    12   6   4   3    2   2   2   1   1   1   1    1    1    1    1    1   \n",
       "\n",
       "          16   17  \n",
       "movieId  186  188  \n",
       "Count      1    1  "
      ]
     },
     "execution_count": 225,
     "metadata": {},
     "output_type": "execute_result"
    }
   ],
   "source": [
    "cluster_movies[1].T"
   ]
  },
  {
   "cell_type": "markdown",
   "metadata": {},
   "source": [
    "Avem 17 filme în acest cluster unde filmul cu ID-ul 1 e favorit la 12 utilizatori."
   ]
  },
  {
   "cell_type": "markdown",
   "metadata": {},
   "source": [
    "Să vedem câti utilizatori sunt în fiecare cluster."
   ]
  },
  {
   "cell_type": "code",
   "execution_count": 226,
   "metadata": {},
   "outputs": [
    {
     "name": "stdout",
     "output_type": "stream",
     "text": [
      "Utilizatori în Clusterul 0 ->  2\n",
      "Utilizatori în Clusterul 1 ->  12\n",
      "Utilizatori în Clusterul 2 ->  13\n",
      "Utilizatori în Clusterul 3 ->  1\n",
      "Utilizatori în Clusterul 4 ->  6\n",
      "Utilizatori în Clusterul 5 ->  9\n",
      "Utilizatori în Clusterul 6 ->  1\n",
      "Utilizatori în Clusterul 7 ->  1\n",
      "Utilizatori în Clusterul 8 ->  1\n",
      "Utilizatori în Clusterul 9 ->  7\n",
      "Utilizatori în Clusterul 10 ->  2\n",
      "Utilizatori în Clusterul 11 ->  1\n",
      "Utilizatori în Clusterul 12 ->  2\n",
      "Utilizatori în Clusterul 13 ->  12\n",
      "Utilizatori în Clusterul 14 ->  30\n"
     ]
    }
   ],
   "source": [
    "for i in range(nr_of_clusters):\n",
    "    len_users = users_cluster[users_cluster['Cluster'] == i].shape[0]\n",
    "    print('Utilizatori în Clusterul ' + str(i) + ' -> ', len_users)"
   ]
  },
  {
   "cell_type": "markdown",
   "metadata": {},
   "source": [
    "După cum se obervă există cluster cu un numar mic de utilizatori (1-2). NU ne dorim astfel de clustere mici fiindcă nu vom avea posibilitatea de a recomanda decât un număr restrâns de filme. Deci apare necesitatea de a rezolva acești clusteri nefolositori."
   ]
  },
  {
   "cell_type": "markdown",
   "metadata": {},
   "source": [
    "### Rezolvarea Clusterilor Mici"
   ]
  },
  {
   "cell_type": "markdown",
   "metadata": {},
   "source": [
    "Să zicem că nu dorim nici un cluster cu un singur utilizator sau cu mai puțin de 6 utilizatori. Deci trebuie să mutăm utilizatorii din clusterele mici în altele mai largi, care e ce mai relevant pentru utilizatorul dat."
   ]
  },
  {
   "cell_type": "markdown",
   "metadata": {},
   "source": [
    "Cream o funcție ce ne returneaza lista de filme favorite a unui singur utilizator."
   ]
  },
  {
   "cell_type": "code",
   "execution_count": 227,
   "metadata": {},
   "outputs": [],
   "source": [
    "def getMoviesOfUser(user_id, users_data):\n",
    "    return list(users_data[users_data['userId'] == user_id]['movieId'])"
   ]
  },
  {
   "cell_type": "markdown",
   "metadata": {},
   "source": [
    "Mai departe cream funcția ce se va ocupa de rezolvarea clusterilor mici."
   ]
  },
  {
   "cell_type": "code",
   "execution_count": 228,
   "metadata": {},
   "outputs": [],
   "source": [
    "def fixClusters(clusters_movies_dataframes, users_cluster_dataframe, users_data, smallest_cluster_size = 11):\n",
    "    \"\"\"\n",
    "    Mută utilizatorii din clusterele mici în clusterele mari\n",
    "    Args:\n",
    "        clusters_movies_dataframes : Listă de datafreme-uri ce conțin filmele preferate de utilizatori din fiecare cluster\n",
    "        users_cluster_dataframe : Un dataframe cu ID-ul utilizatorilor și clusterele lor\n",
    "        smallest_cluster_size : Dimensiunea minimă a unui cluster pentru a nu fi eliminat\n",
    "    Returns:\n",
    "        each_cluster_movies : Listă de datafreme-uri ce conțin filmele preferate de utilizatori din fiecare cluster\n",
    "        users_cluster : Un dataframe cu ID-ul utilizatorilor și clusterele lor\n",
    "    \"\"\"\n",
    " \n",
    "    each_cluster_movies = clusters_movies_dataframes.copy()\n",
    "    users_cluster = users_cluster_dataframe.copy()\n",
    "    \n",
    "    # Covertim fiecare dataframe din each_cluster_movies într-o listă care conține doar ID-urile filmelor\n",
    "    each_cluster_movies_list = [list(df['movieId']) for df in each_cluster_movies]\n",
    "    \n",
    "    # Pregătim o listă care conține listele de utilizatori din fiecare cluster -> [[Utilizatori din Cluster 0], [Utilizatori din Cluster 1], ... ,[Utilizatori din Cluster N]] \n",
    "    usersInClusters = list()\n",
    "    total_clusters = len(each_cluster_movies)\n",
    "    for i in range(total_clusters):\n",
    "        usersInClusters.append(list(users_cluster[users_cluster['Cluster'] == i]['userId']))\n",
    "    uncategorizedUsers = list()\n",
    "    i = 0\n",
    "    \n",
    "    # Eliminăm clusterele mici și mutăm utilizatorii lor într-o listă numită \"uncategorizedUsers\"\n",
    "    # Când vom elimina un cluster, atunci trebuie să actualizăm numerele de clustere ale utilizatorilor  după ștergerea clusterului\n",
    "    # De exemplu, dacă am șters clusterul 4, atunci vor fi utilizatori ale căror clustere vor fi 5,6,7,..,N. Deci, vom aduce înapoi numărul de clustere ale acestor utilizatori la 4,5,6,...,N-1.\n",
    "    for j in range(total_clusters):\n",
    "        if len(usersInClusters[i]) < smallest_cluster_size:\n",
    "            uncategorizedUsers.extend(usersInClusters[i])\n",
    "            usersInClusters.pop(i)\n",
    "            each_cluster_movies.pop(i)\n",
    "            each_cluster_movies_list.pop(i)\n",
    "            users_cluster.loc[users_cluster['Cluster'] > i, 'Cluster'] -= 1\n",
    "            i -= 1\n",
    "        i += 1\n",
    "    for user in uncategorizedUsers:\n",
    "        elemProbability = list()\n",
    "        user_movies = getMoviesOfUser(user, users_data)\n",
    "        if len(user_movies) == 0:\n",
    "            print(user)\n",
    "        user_missed_movies = list()\n",
    "        for movies_list in each_cluster_movies_list:\n",
    "            count = 0\n",
    "            missed_movies = list()\n",
    "            for movie in user_movies:\n",
    "                if movie in movies_list:\n",
    "                    count += 1\n",
    "                else:\n",
    "                    missed_movies.append(movie)\n",
    "            elemProbability.append(count / len(user_movies))\n",
    "            user_missed_movies.append(missed_movies)\n",
    "        user_new_cluster = np.array(elemProbability).argmax()\n",
    "        users_cluster.loc[users_cluster['userId'] == user, 'Cluster'] = user_new_cluster\n",
    "        if len(user_missed_movies[user_new_cluster]) > 0:\n",
    "           each_cluster_movies[user_new_cluster] = pd.concat([each_cluster_movies[user_new_cluster], pd.DataFrame([{'movieId': new_movie, 'Count': 1} for new_movie in user_missed_movies[user_new_cluster]])], ignore_index=True)\n",
    "\n",
    "    return each_cluster_movies, users_cluster\n"
   ]
  },
  {
   "cell_type": "code",
   "execution_count": 229,
   "metadata": {
    "scrolled": true
   },
   "outputs": [],
   "source": [
    "movies_df_fixed, clusters_fixed = fixClusters(cluster_movies, users_cluster, users_fav_movies, smallest_cluster_size = 6)"
   ]
  },
  {
   "cell_type": "markdown",
   "metadata": {},
   "source": [
    "Analizăm datele care leamm avut înainte de mutarea între clustere șii cea după."
   ]
  },
  {
   "cell_type": "code",
   "execution_count": 230,
   "metadata": {},
   "outputs": [
    {
     "name": "stdout",
     "output_type": "stream",
     "text": [
      "Utilizatori în Clusterrul 0 ->  2\n",
      "Utilizatori în Clusterrul 3 ->  1\n",
      "Utilizatori în Clusterrul 6 ->  1\n",
      "Utilizatori în Clusterrul 7 ->  1\n",
      "Utilizatori în Clusterrul 8 ->  1\n",
      "Utilizatori în Clusterrul 10 ->  2\n",
      "Utilizatori în Clusterrul 11 ->  1\n",
      "Utilizatori în Clusterrul 12 ->  2\n",
      "Numărul de clustere ce le vom elimina ->  8\n"
     ]
    }
   ],
   "source": [
    "j = 0\n",
    "for i in range(nr_of_clusters):\n",
    "    len_users = users_cluster[users_cluster['Cluster'] == i].shape[0]\n",
    "    if len_users < 6:\n",
    "        print('Utilizatori în Clusterrul ' + str(i) + ' -> ', len_users)\n",
    "        j += 1\n",
    "print('Numărul de clustere ce le vom elimina -> ', j)"
   ]
  },
  {
   "cell_type": "code",
   "execution_count": 231,
   "metadata": {},
   "outputs": [
    {
     "name": "stdout",
     "output_type": "stream",
     "text": [
      "Numărul total de clustere inițiale ->  15\n"
     ]
    },
    {
     "data": {
      "text/html": [
       "<div>\n",
       "<style scoped>\n",
       "    .dataframe tbody tr th:only-of-type {\n",
       "        vertical-align: middle;\n",
       "    }\n",
       "\n",
       "    .dataframe tbody tr th {\n",
       "        vertical-align: top;\n",
       "    }\n",
       "\n",
       "    .dataframe thead th {\n",
       "        text-align: right;\n",
       "    }\n",
       "</style>\n",
       "<table border=\"1\" class=\"dataframe\">\n",
       "  <thead>\n",
       "    <tr style=\"text-align: right;\">\n",
       "      <th></th>\n",
       "      <th>0</th>\n",
       "      <th>1</th>\n",
       "      <th>2</th>\n",
       "      <th>3</th>\n",
       "      <th>4</th>\n",
       "      <th>5</th>\n",
       "      <th>6</th>\n",
       "      <th>7</th>\n",
       "      <th>8</th>\n",
       "      <th>9</th>\n",
       "      <th>...</th>\n",
       "      <th>90</th>\n",
       "      <th>91</th>\n",
       "      <th>92</th>\n",
       "      <th>93</th>\n",
       "      <th>94</th>\n",
       "      <th>95</th>\n",
       "      <th>96</th>\n",
       "      <th>97</th>\n",
       "      <th>98</th>\n",
       "      <th>99</th>\n",
       "    </tr>\n",
       "  </thead>\n",
       "  <tbody>\n",
       "    <tr>\n",
       "      <th>userId</th>\n",
       "      <td>1</td>\n",
       "      <td>2</td>\n",
       "      <td>8</td>\n",
       "      <td>9</td>\n",
       "      <td>10</td>\n",
       "      <td>11</td>\n",
       "      <td>12</td>\n",
       "      <td>15</td>\n",
       "      <td>16</td>\n",
       "      <td>18</td>\n",
       "      <td>...</td>\n",
       "      <td>134</td>\n",
       "      <td>137</td>\n",
       "      <td>142</td>\n",
       "      <td>146</td>\n",
       "      <td>150</td>\n",
       "      <td>151</td>\n",
       "      <td>153</td>\n",
       "      <td>155</td>\n",
       "      <td>156</td>\n",
       "      <td>157</td>\n",
       "    </tr>\n",
       "    <tr>\n",
       "      <th>Cluster</th>\n",
       "      <td>13</td>\n",
       "      <td>14</td>\n",
       "      <td>1</td>\n",
       "      <td>9</td>\n",
       "      <td>4</td>\n",
       "      <td>14</td>\n",
       "      <td>11</td>\n",
       "      <td>14</td>\n",
       "      <td>5</td>\n",
       "      <td>13</td>\n",
       "      <td>...</td>\n",
       "      <td>14</td>\n",
       "      <td>14</td>\n",
       "      <td>2</td>\n",
       "      <td>14</td>\n",
       "      <td>7</td>\n",
       "      <td>14</td>\n",
       "      <td>9</td>\n",
       "      <td>5</td>\n",
       "      <td>14</td>\n",
       "      <td>14</td>\n",
       "    </tr>\n",
       "  </tbody>\n",
       "</table>\n",
       "<p>2 rows × 100 columns</p>\n",
       "</div>"
      ],
      "text/plain": [
       "         0   1   2   3   4   5   6   7   8   9   ...   90   91   92   93   94  \\\n",
       "userId    1   2   8   9  10  11  12  15  16  18  ...  134  137  142  146  150   \n",
       "Cluster  13  14   1   9   4  14  11  14   5  13  ...   14   14    2   14    7   \n",
       "\n",
       "          95   96   97   98   99  \n",
       "userId   151  153  155  156  157  \n",
       "Cluster   14    9    5   14   14  \n",
       "\n",
       "[2 rows x 100 columns]"
      ]
     },
     "execution_count": 231,
     "metadata": {},
     "output_type": "execute_result"
    }
   ],
   "source": [
    "print('Numărul total de clustere inițiale -> ', len(cluster_movies))\n",
    "users_cluster.T"
   ]
  },
  {
   "cell_type": "markdown",
   "metadata": {},
   "source": [
    "După ce rezolvăm și eliminăm clusterele mici. "
   ]
  },
  {
   "cell_type": "code",
   "execution_count": 232,
   "metadata": {},
   "outputs": [
    {
     "name": "stdout",
     "output_type": "stream",
     "text": [
      "Numărul total de clustere ce au rămas ->  7\n"
     ]
    },
    {
     "data": {
      "text/html": [
       "<div>\n",
       "<style scoped>\n",
       "    .dataframe tbody tr th:only-of-type {\n",
       "        vertical-align: middle;\n",
       "    }\n",
       "\n",
       "    .dataframe tbody tr th {\n",
       "        vertical-align: top;\n",
       "    }\n",
       "\n",
       "    .dataframe thead th {\n",
       "        text-align: right;\n",
       "    }\n",
       "</style>\n",
       "<table border=\"1\" class=\"dataframe\">\n",
       "  <thead>\n",
       "    <tr style=\"text-align: right;\">\n",
       "      <th></th>\n",
       "      <th>0</th>\n",
       "      <th>1</th>\n",
       "      <th>2</th>\n",
       "      <th>3</th>\n",
       "      <th>4</th>\n",
       "      <th>5</th>\n",
       "      <th>6</th>\n",
       "      <th>7</th>\n",
       "      <th>8</th>\n",
       "      <th>9</th>\n",
       "      <th>...</th>\n",
       "      <th>90</th>\n",
       "      <th>91</th>\n",
       "      <th>92</th>\n",
       "      <th>93</th>\n",
       "      <th>94</th>\n",
       "      <th>95</th>\n",
       "      <th>96</th>\n",
       "      <th>97</th>\n",
       "      <th>98</th>\n",
       "      <th>99</th>\n",
       "    </tr>\n",
       "  </thead>\n",
       "  <tbody>\n",
       "    <tr>\n",
       "      <th>userId</th>\n",
       "      <td>1</td>\n",
       "      <td>2</td>\n",
       "      <td>8</td>\n",
       "      <td>9</td>\n",
       "      <td>10</td>\n",
       "      <td>11</td>\n",
       "      <td>12</td>\n",
       "      <td>15</td>\n",
       "      <td>16</td>\n",
       "      <td>18</td>\n",
       "      <td>...</td>\n",
       "      <td>134</td>\n",
       "      <td>137</td>\n",
       "      <td>142</td>\n",
       "      <td>146</td>\n",
       "      <td>150</td>\n",
       "      <td>151</td>\n",
       "      <td>153</td>\n",
       "      <td>155</td>\n",
       "      <td>156</td>\n",
       "      <td>157</td>\n",
       "    </tr>\n",
       "    <tr>\n",
       "      <th>Cluster</th>\n",
       "      <td>5</td>\n",
       "      <td>6</td>\n",
       "      <td>0</td>\n",
       "      <td>4</td>\n",
       "      <td>2</td>\n",
       "      <td>6</td>\n",
       "      <td>1</td>\n",
       "      <td>6</td>\n",
       "      <td>3</td>\n",
       "      <td>5</td>\n",
       "      <td>...</td>\n",
       "      <td>6</td>\n",
       "      <td>6</td>\n",
       "      <td>1</td>\n",
       "      <td>6</td>\n",
       "      <td>1</td>\n",
       "      <td>6</td>\n",
       "      <td>4</td>\n",
       "      <td>3</td>\n",
       "      <td>6</td>\n",
       "      <td>6</td>\n",
       "    </tr>\n",
       "  </tbody>\n",
       "</table>\n",
       "<p>2 rows × 100 columns</p>\n",
       "</div>"
      ],
      "text/plain": [
       "         0   1   2   3   4   5   6   7   8   9   ...   90   91   92   93   94  \\\n",
       "userId    1   2   8   9  10  11  12  15  16  18  ...  134  137  142  146  150   \n",
       "Cluster   5   6   0   4   2   6   1   6   3   5  ...    6    6    1    6    1   \n",
       "\n",
       "          95   96   97   98   99  \n",
       "userId   151  153  155  156  157  \n",
       "Cluster    6    4    3    6    6  \n",
       "\n",
       "[2 rows x 100 columns]"
      ]
     },
     "execution_count": 232,
     "metadata": {},
     "output_type": "execute_result"
    }
   ],
   "source": [
    "print('Numărul total de clustere ce au rămas -> ', len(movies_df_fixed))\n",
    "clusters_fixed.T"
   ]
  },
  {
   "cell_type": "markdown",
   "metadata": {},
   "source": [
    "Să verificăm dimensiunile noilor clusteri."
   ]
  },
  {
   "cell_type": "code",
   "execution_count": 233,
   "metadata": {},
   "outputs": [
    {
     "name": "stdout",
     "output_type": "stream",
     "text": [
      "Utilizatori în Clusterul 0 ->  12\n",
      "Utilizatori în Clusterul 1 ->  19\n",
      "Utilizatori în Clusterul 2 ->  8\n",
      "Utilizatori în Clusterul 3 ->  10\n",
      "Utilizatori în Clusterul 4 ->  7\n",
      "Utilizatori în Clusterul 5 ->  12\n",
      "Utilizatori în Clusterul 6 ->  32\n"
     ]
    }
   ],
   "source": [
    "for i in range(len(movies_df_fixed)):\n",
    "    len_users = clusters_fixed[clusters_fixed['Cluster'] == i].shape[0]\n",
    "    print('Utilizatori în Clusterul ' + str(i) + ' -> ', len_users)"
   ]
  },
  {
   "cell_type": "markdown",
   "metadata": {},
   "source": [
    "Fiecare cluster deja are destui utilizatori ca să putem face recomandări altor utilizatori. Deci există și detule filme în fiecare cluster."
   ]
  },
  {
   "cell_type": "code",
   "execution_count": 234,
   "metadata": {},
   "outputs": [
    {
     "name": "stdout",
     "output_type": "stream",
     "text": [
      "Numărul total de filme în Clusterul 0 ->  18\n",
      "Numărul total de filme în Clusterul 1 ->  65\n",
      "Numărul total de filme în Clusterul 2 ->  33\n",
      "Numărul total de filme în Clusterul 3 ->  21\n",
      "Numărul total de filme în Clusterul 4 ->  24\n",
      "Numărul total de filme în Clusterul 5 ->  15\n",
      "Numărul total de filme în Clusterul 6 ->  32\n"
     ]
    }
   ],
   "source": [
    "for i in range(len(movies_df_fixed)):\n",
    "    print('Numărul total de filme în Clusterul ' + str(i) + ' -> ', movies_df_fixed[i].shape[0])"
   ]
  },
  {
   "cell_type": "markdown",
   "metadata": {},
   "source": [
    "După ce am cream modelul pe baza k-means să facă predicții pentru fiecare utilizator, este necesar să salvăm aceste rezultate pentru a putea fi utilizate ulterior. Pentru aceasta utilizăm librăria **Pickle** pentru serializarea informației necesare."
   ]
  },
  {
   "cell_type": "markdown",
   "metadata": {},
   "source": [
    "Definim funcții de salvare și încărcare a fișierelor cu clusterele deja create."
   ]
  },
  {
   "cell_type": "code",
   "execution_count": 235,
   "metadata": {},
   "outputs": [],
   "source": [
    "class saveLoadFiles:\n",
    "    def save(self, filename, data):\n",
    "        try:\n",
    "            file = open('datasets/' + filename + '.pkl', 'wb')\n",
    "            pickle.dump(data, file)\n",
    "        except:\n",
    "            err = 'Error: {0}, {1}'.format(exc_info()[0], exc_info()[1])\n",
    "            print(err)\n",
    "            file.close()\n",
    "            return [False, err]\n",
    "        else:\n",
    "            file.close()\n",
    "            return [True]\n",
    "    def load(self, filename):\n",
    "        try:\n",
    "            file = open('datasets/' + filename + '.pkl', 'rb')\n",
    "        except:\n",
    "            err = 'Error: {0}, {1}'.format(exc_info()[0], exc_info()[1])\n",
    "            print(err)\n",
    "            file.close()\n",
    "            return [False, err]\n",
    "        else:\n",
    "            data = pickle.load(file)\n",
    "            file.close()\n",
    "            return data\n",
    "    def loadClusterMoviesDataset(self):\n",
    "        return self.load('clusters_movies_dataset')\n",
    "    def saveClusterMoviesDataset(self, data):\n",
    "        return self.save('clusters_movies_dataset', data)\n",
    "    def loadUsersClusters(self):\n",
    "        return self.load('users_clusters')\n",
    "    def saveUsersClusters(self, data):\n",
    "        return self.save('users_clusters', data)"
   ]
  },
  {
   "cell_type": "markdown",
   "metadata": {},
   "source": [
    "Verificăm dacă are loc stocarea și încărcarea datelor."
   ]
  },
  {
   "cell_type": "code",
   "execution_count": 236,
   "metadata": {},
   "outputs": [
    {
     "name": "stdout",
     "output_type": "stream",
     "text": [
      "[True]\n",
      "[True]\n"
     ]
    }
   ],
   "source": [
    "saveLoadFile = saveLoadFiles()\n",
    "print(saveLoadFile.saveClusterMoviesDataset(movies_df_fixed))\n",
    "print(saveLoadFile.saveUsersClusters(clusters_fixed))"
   ]
  },
  {
   "cell_type": "markdown",
   "metadata": {},
   "source": [
    "## Generarea recomandărilor utilizatorilor"
   ]
  },
  {
   "cell_type": "markdown",
   "metadata": {},
   "source": [
    "Cream  metodă de a genera recomandări dintr-un cluster cu cele mai aprciate filme nevizionate de utilizator."
   ]
  },
  {
   "cell_type": "code",
   "execution_count": 237,
   "metadata": {},
   "outputs": [],
   "source": [
    "class userRequestedFor:\n",
    "    def __init__(self, user_id, users_data):\n",
    "        self.users_data = users_data.copy()\n",
    "        self.user_id = user_id\n",
    "        # Cautăm clusterul utilizatorului\n",
    "        users_cluster = saveLoadFiles().loadUsersClusters()\n",
    "                \n",
    "        self.user_cluster = ((users_cluster[users_cluster['userId'] == self.user_id]['Cluster']).iloc[0].astype(int))\n",
    "        # Încărcăm lista de filme pentru clusterul utilizatorului\n",
    "        self.movies_list = saveLoadFiles().loadClusterMoviesDataset()\n",
    "        self.cluster_movies = self.movies_list[self.user_cluster] # dataframe\n",
    "        self.cluster_movies_list = list(self.cluster_movies['movieId']) # list\n",
    "        \n",
    "    def updatedFavouriteMoviesList(self, new_movie_Id):\n",
    "        if new_movie_Id in self.cluster_movies_list:\n",
    "            self.cluster_movies.loc[self.cluster_movies['movieId'] == new_movie_Id, 'Count'] += 1\n",
    "        else:\n",
    "            self.cluster_movies = self.cluster_movies.append([{'movieId':new_movie_Id, 'Count': 1}], ignore_index=True)\n",
    "        self.cluster_movies.sort_values(by = ['Count'], ascending = False, inplace= True)\n",
    "        self.movies_list[self.user_cluster] = self.cluster_movies\n",
    "        saveLoadFiles().saveClusterMoviesDataset(self.movies_list)\n",
    "\n",
    "    def recommendMostFavouriteMovies(self):\n",
    "        try:\n",
    "            user_movies = getMoviesOfUser(self.user_id, self.users_data)\n",
    "            cluster_movies_list = self.cluster_movies_list.copy()\n",
    "            for user_movie in user_movies:\n",
    "                if user_movie in cluster_movies_list:\n",
    "                    cluster_movies_list.remove(user_movie)\n",
    "            return [True, cluster_movies_list]\n",
    "        except KeyError:\n",
    "            err = \"User history does not exist\"\n",
    "            print(err)\n",
    "            return [False, err]\n",
    "        except:\n",
    "            err = 'Error: {0}, {1}'.format(exc_info()[0], exc_info()[1])\n",
    "            print(err)\n",
    "            return [False, err]"
   ]
  },
  {
   "cell_type": "markdown",
   "metadata": {},
   "source": [
    "Pentru a afișa recomandări mai depline nu încărcăm doar id-urile filmelor, ci și alte date cum ar fi titlu, genurle etc. "
   ]
  },
  {
   "cell_type": "code",
   "execution_count": 238,
   "metadata": {},
   "outputs": [
    {
     "data": {
      "text/html": [
       "<div>\n",
       "<style scoped>\n",
       "    .dataframe tbody tr th:only-of-type {\n",
       "        vertical-align: middle;\n",
       "    }\n",
       "\n",
       "    .dataframe tbody tr th {\n",
       "        vertical-align: top;\n",
       "    }\n",
       "\n",
       "    .dataframe thead th {\n",
       "        text-align: right;\n",
       "    }\n",
       "</style>\n",
       "<table border=\"1\" class=\"dataframe\">\n",
       "  <thead>\n",
       "    <tr style=\"text-align: right;\">\n",
       "      <th></th>\n",
       "      <th>genres</th>\n",
       "      <th>id</th>\n",
       "      <th>original_title</th>\n",
       "    </tr>\n",
       "  </thead>\n",
       "  <tbody>\n",
       "    <tr>\n",
       "      <th>0</th>\n",
       "      <td>[{'id': 80, 'name': 'Crime'}, {'id': 35, 'name...</td>\n",
       "      <td>5</td>\n",
       "      <td>Four Rooms</td>\n",
       "    </tr>\n",
       "    <tr>\n",
       "      <th>1</th>\n",
       "      <td>[{'id': 12, 'name': 'Adventure'}, {'id': 28, '...</td>\n",
       "      <td>11</td>\n",
       "      <td>Star Wars</td>\n",
       "    </tr>\n",
       "    <tr>\n",
       "      <th>2</th>\n",
       "      <td>[{'id': 53, 'name': 'Thriller'}, {'id': 80, 'n...</td>\n",
       "      <td>101</td>\n",
       "      <td>Léon</td>\n",
       "    </tr>\n",
       "    <tr>\n",
       "      <th>3</th>\n",
       "      <td>[{'id': 18, 'name': 'Drama'}, {'id': 9648, 'na...</td>\n",
       "      <td>110</td>\n",
       "      <td>Trois couleurs : Rouge</td>\n",
       "    </tr>\n",
       "    <tr>\n",
       "      <th>4</th>\n",
       "      <td>[{'id': 28, 'name': 'Action'}, {'id': 53, 'nam...</td>\n",
       "      <td>6</td>\n",
       "      <td>Judgment Night</td>\n",
       "    </tr>\n",
       "  </tbody>\n",
       "</table>\n",
       "</div>"
      ],
      "text/plain": [
       "                                              genres   id  \\\n",
       "0  [{'id': 80, 'name': 'Crime'}, {'id': 35, 'name...    5   \n",
       "1  [{'id': 12, 'name': 'Adventure'}, {'id': 28, '...   11   \n",
       "2  [{'id': 53, 'name': 'Thriller'}, {'id': 80, 'n...  101   \n",
       "3  [{'id': 18, 'name': 'Drama'}, {'id': 9648, 'na...  110   \n",
       "4  [{'id': 28, 'name': 'Action'}, {'id': 53, 'nam...    6   \n",
       "\n",
       "           original_title  \n",
       "0              Four Rooms  \n",
       "1               Star Wars  \n",
       "2                    Léon  \n",
       "3  Trois couleurs : Rouge  \n",
       "4          Judgment Night  "
      ]
     },
     "execution_count": 238,
     "metadata": {},
     "output_type": "execute_result"
    }
   ],
   "source": [
    "movies_metadata = pd.read_csv(\n",
    "    './Movies Data/movies_metadata.csv', \n",
    "    usecols = ['id', 'genres', 'original_title'])\n",
    "\n",
    "movies_metadata = movies_metadata.loc[\n",
    "    movies_metadata['id'].isin(list(map(str, np.unique(users_fav_movies['movieId']))))].reset_index(drop=True)\n",
    "movies_metadata.head()"
   ]
  },
  {
   "cell_type": "markdown",
   "metadata": {},
   "source": [
    "Lista de filme preferate a utilizatorului cu ID-ul 12."
   ]
  },
  {
   "cell_type": "code",
   "execution_count": 239,
   "metadata": {},
   "outputs": [
    {
     "name": "stdout",
     "output_type": "stream",
     "text": [
      "Titlul:  ['Dancer in the Dark'] , Genuri: [Drama , Crime , Music ]\n",
      "Titlul:  ['The Dark'] , Genuri: [Horror , Thriller , Mystery ]\n",
      "Titlul:  ['Miami Vice'] , Genuri: [Action , Adventure , Crime , Thriller ]\n",
      "Titlul:  ['Tron'] , Genuri: [Science Fiction , Action , Adventure ]\n",
      "Titlul:  ['The Lord of the Rings'] , Genuri: [Fantasy , Drama , Animation , Adventure ]\n",
      "Titlul:  ['48 Hrs.'] , Genuri: [Thriller , Action , Comedy , Crime , Drama ]\n",
      "Titlul:  ['Edward Scissorhands'] , Genuri: [Fantasy , Drama , Romance ]\n",
      "Titlul:  ['Le Grand Bleu'] , Genuri: [Adventure , Drama , Romance ]\n",
      "Titlul:  ['Saw'] , Genuri: [Horror , Mystery , Crime ]\n",
      "Titlul:  [\"Le fabuleux destin d'Amélie Poulain\"] , Genuri: [Comedy , Romance ]\n"
     ]
    }
   ],
   "source": [
    "userMovies = getMoviesOfUser(12, users_fav_movies)\n",
    "for movie in userMovies:\n",
    "    title = list(movies_metadata.loc[movies_metadata['id'] == str(movie)]['original_title'])\n",
    "    if title != []:\n",
    "        print('Titlul: ', title, ', Genuri: [', end = '')\n",
    "        genres = ast.literal_eval(movies_metadata.loc[movies_metadata['id'] == str(movie)]['genres'].values[0].split('[')[1].split(']')[0])\n",
    "        for genre in genres:\n",
    "            print(genre['name'], ', ', end = '')\n",
    "        print(end = '\\b\\b]')\n",
    "        print('')"
   ]
  },
  {
   "cell_type": "markdown",
   "metadata": {},
   "source": [
    "Top recomandări pentru utilizatorul cu ID-ul 12."
   ]
  },
  {
   "cell_type": "code",
   "execution_count": 240,
   "metadata": {
    "scrolled": false
   },
   "outputs": [
    {
     "name": "stdout",
     "output_type": "stream",
     "text": [
      "Titlul:  ['Trois couleurs : Rouge'] , Genuri: [Drama , Mystery , Romance , ]\n",
      "Titlul:  ['Scarface'] , Genuri: [Action , Crime , Drama , Thriller , ]\n",
      "Titlul:  ['Judgment Night'] , Genuri: [Action , Thriller , Crime , ]\n",
      "Titlul:  ['To Be or Not to Be'] , Genuri: [Comedy , War , ]\n",
      "Titlul:  [\"Ocean's Twelve\"] , Genuri: [Thriller , Crime , ]\n",
      "Titlul:  ['Kill Bill: Vol. 1'] , Genuri: [Action , Crime , ]\n",
      "Titlul:  ['Star Trek V: The Final Frontier'] , Genuri: [Science Fiction , Action , Adventure , Thriller , ]\n"
     ]
    }
   ],
   "source": [
    "userRecommendations = userRequestedFor(12, users_fav_movies).recommendMostFavouriteMovies()[1]\n",
    "for movie in userRecommendations[:10]:\n",
    "    title = list(movies_metadata.loc[movies_metadata['id'] == str(movie)]['original_title'])\n",
    "    if title != []:\n",
    "        print('Titlul: ', title, ', Genuri: [', end = '')\n",
    "        genres = ast.literal_eval(movies_metadata.loc[movies_metadata['id'] == str(movie)]['genres'].values[0].split('[')[1].split(']')[0])\n",
    "        for genre in genres:\n",
    "            print(genre['name'], ', ', end = '')\n",
    "        print(']', end = '')\n",
    "        print()\n",
    "            "
   ]
  }
 ],
 "metadata": {
  "colab": {
   "name": "AI Movies Recommendation System with Clustering Based K-Means Algorithm.ipynb",
   "provenance": [],
   "toc_visible": true
  },
  "kernelspec": {
   "display_name": "Python 3",
   "language": "python",
   "name": "python3"
  },
  "language_info": {
   "codemirror_mode": {
    "name": "ipython",
    "version": 3
   },
   "file_extension": ".py",
   "mimetype": "text/x-python",
   "name": "python",
   "nbconvert_exporter": "python",
   "pygments_lexer": "ipython3",
   "version": "3.12.2"
  }
 },
 "nbformat": 4,
 "nbformat_minor": 1
}
